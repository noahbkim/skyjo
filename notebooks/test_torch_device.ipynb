{
 "cells": [
  {
   "cell_type": "code",
   "execution_count": 9,
   "id": "914409ce-52d7-43de-9be4-64327b54af60",
   "metadata": {},
   "outputs": [],
   "source": [
    "import numpy as np\n",
    "import collections\n",
    "import dataclasses\n",
    "import typing\n",
    "import einops\n",
    "import torch\n",
    "import sys\n",
    "import pathlib\n",
    "import logging\n",
    "import itertools\n",
    "if '/Users/urolyi1/repos/skyjo' not in sys.path:\n",
    "    sys.path.append('/Users/urolyi1/repos/skyjo')"
   ]
  },
  {
   "cell_type": "code",
   "execution_count": 10,
   "id": "ffcb5df9-94f5-4a44-b199-561cfd1ec583",
   "metadata": {},
   "outputs": [],
   "source": [
    "import skyjo as sj\n",
    "import skynet\n",
    "import mcts_new as mcts\n",
    "import train_new as train\n",
    "import explain as explain"
   ]
  },
  {
   "cell_type": "code",
   "execution_count": 3,
   "id": "84b0d139-e12f-4a33-b85a-c3a345688284",
   "metadata": {},
   "outputs": [
    {
     "data": {
      "text/plain": [
       "torch.Size([2, 3, 4, 17])"
      ]
     },
     "execution_count": 3,
     "metadata": {},
     "output_type": "execute_result"
    }
   ],
   "source": [
    "mps_tensor = torch.randint(0, 100, (2, 3, 4, 17), device='mps')\n",
    "mps_tensor.shape"
   ]
  },
  {
   "cell_type": "code",
   "execution_count": 4,
   "id": "fc26cb7a-a524-431a-aeb3-adb2134102ed",
   "metadata": {},
   "outputs": [
    {
     "data": {
      "text/plain": [
       "torch.Size([2, 3, 4, 17])"
      ]
     },
     "execution_count": 4,
     "metadata": {},
     "output_type": "execute_result"
    }
   ],
   "source": [
    "cpu_tensor = torch.randint(0, 100, (2, 3, 4, 17), device='cpu')\n",
    "cpu_tensor.shape"
   ]
  },
  {
   "cell_type": "code",
   "execution_count": 6,
   "id": "5fa97dcf-8b50-446d-9955-c03b1ded79ab",
   "metadata": {},
   "outputs": [
    {
     "name": "stdout",
     "output_type": "stream",
     "text": [
      "363 μs ± 23.6 μs per loop (mean ± std. dev. of 7 runs, 1,000 loops each)\n"
     ]
    }
   ],
   "source": [
    "%%timeit\n",
    "mps_tensor.cpu()"
   ]
  },
  {
   "cell_type": "code",
   "execution_count": 7,
   "id": "4b95b0fd-e695-4aac-aa3a-c0f005a4c53e",
   "metadata": {},
   "outputs": [
    {
     "name": "stdout",
     "output_type": "stream",
     "text": [
      "371 μs ± 18.4 μs per loop (mean ± std. dev. of 7 runs, 1,000 loops each)\n"
     ]
    }
   ],
   "source": [
    "%%timeit\n",
    "mps_tensor.cpu().numpy()"
   ]
  },
  {
   "cell_type": "code",
   "execution_count": 125,
   "id": "fe3c2f1c-4ce8-47b9-8840-825b94e76bf5",
   "metadata": {},
   "outputs": [],
   "source": [
    "batch_size = 64\n",
    "spatial_tensor = torch.rand((batch_size, 2, 3, 4, 17))\n",
    "nonspatial_tensor = torch.rand((batch_size, sj.GAME_SIZE,))"
   ]
  },
  {
   "cell_type": "code",
   "execution_count": 126,
   "id": "c5d8c496-b699-4fae-8a51-e50519f77b96",
   "metadata": {},
   "outputs": [],
   "source": [
    "cpu_model = skynet.SkyNet1D(\n",
    "    spatial_input_shape=(2, sj.ROW_COUNT, sj.COLUMN_COUNT, sj.FINGER_SIZE),\n",
    "    non_spatial_input_shape=(sj.GAME_SIZE,),\n",
    "    value_output_shape=(2,),\n",
    "    policy_output_shape=(sj.MASK_SIZE,),\n",
    ")\n",
    "cpu_model.eval()\n",
    "# warm-up\n",
    "for _ in range(30):\n",
    "    cpu_model(spatial_tensor, nonspatial_tensor)"
   ]
  },
  {
   "cell_type": "code",
   "execution_count": 127,
   "id": "1ce1b9d9-9c95-44f0-b5b2-ce2355e1e0dd",
   "metadata": {},
   "outputs": [
    {
     "name": "stdout",
     "output_type": "stream",
     "text": [
      "1.27 ms ± 124 μs per loop (mean ± std. dev. of 7 runs, 1,000 loops each)\n"
     ]
    }
   ],
   "source": [
    "%%timeit\n",
    "with torch.no_grad():\n",
    "    cpu_model.forward(spatial_tensor, nonspatial_tensor)"
   ]
  },
  {
   "cell_type": "code",
   "execution_count": 128,
   "id": "578e6aeb-e3ed-4636-a1ca-ceb9dd07f15d",
   "metadata": {},
   "outputs": [
    {
     "name": "stdout",
     "output_type": "stream",
     "text": [
      "1.31 ms ± 118 μs per loop (mean ± std. dev. of 7 runs, 1,000 loops each)\n"
     ]
    }
   ],
   "source": [
    "%%timeit\n",
    "cpu_model.forward(spatial_tensor, nonspatial_tensor)"
   ]
  },
  {
   "cell_type": "code",
   "execution_count": 129,
   "id": "e6c1c053-528b-4a75-baba-c942a68f963f",
   "metadata": {},
   "outputs": [],
   "source": [
    "mps_model = skynet.SkyNet1D(\n",
    "    spatial_input_shape=(2, sj.ROW_COUNT, sj.COLUMN_COUNT, sj.FINGER_SIZE),\n",
    "    non_spatial_input_shape=(sj.GAME_SIZE,),\n",
    "    value_output_shape=(2,),\n",
    "    policy_output_shape=(sj.MASK_SIZE,),\n",
    ")\n",
    "mps_model.set_device('mps')\n",
    "mps_model.eval()\n",
    "for _ in range(30):\n",
    "    mps_model(spatial_tensor.to(device='mps'), nonspatial_tensor.to(device='mps'))"
   ]
  },
  {
   "cell_type": "code",
   "execution_count": 130,
   "id": "972e83ff-2016-431e-9272-4a59817e525d",
   "metadata": {},
   "outputs": [
    {
     "name": "stdout",
     "output_type": "stream",
     "text": [
      "1.94 ms ± 18.9 μs per loop (mean ± std. dev. of 7 runs, 1,000 loops each)\n"
     ]
    }
   ],
   "source": [
    "%%timeit\n",
    "with torch.no_grad():\n",
    "    mps_model.forward(spatial_tensor.to(device='mps'), nonspatial_tensor.to(device='mps'))"
   ]
  },
  {
   "cell_type": "code",
   "execution_count": 131,
   "id": "bd9fb8cf-810d-4bd0-b2f9-e30d0a5569c9",
   "metadata": {},
   "outputs": [
    {
     "name": "stdout",
     "output_type": "stream",
     "text": [
      "2.12 ms ± 170 μs per loop (mean ± std. dev. of 7 runs, 100 loops each)\n"
     ]
    }
   ],
   "source": [
    "%%timeit\n",
    "mps_model.forward(spatial_tensor.to(device='mps'), nonspatial_tensor.to(device='mps'))"
   ]
  },
  {
   "cell_type": "code",
   "execution_count": 132,
   "id": "b05e5aba-ac46-46ea-9a63-883579e42821",
   "metadata": {},
   "outputs": [],
   "source": [
    "cpu_model_2d = skynet.SkyNet2D(\n",
    "    spatial_input_shape=(2, sj.ROW_COUNT, sj.COLUMN_COUNT, sj.FINGER_SIZE),\n",
    "    non_spatial_input_shape=(sj.GAME_SIZE,),\n",
    "    value_output_shape=(2,),\n",
    "    policy_output_shape=(sj.MASK_SIZE,),\n",
    ")\n",
    "cpu_model_2d.eval()\n",
    "# warm-up\n",
    "for _ in range(30):\n",
    "    cpu_model_2d(spatial_tensor, nonspatial_tensor)"
   ]
  },
  {
   "cell_type": "code",
   "execution_count": 133,
   "id": "23e1b957-7476-4b06-b8b7-a97ab98bcb93",
   "metadata": {},
   "outputs": [
    {
     "name": "stdout",
     "output_type": "stream",
     "text": [
      "6.32 ms ± 673 μs per loop (mean ± std. dev. of 7 runs, 100 loops each)\n"
     ]
    }
   ],
   "source": [
    "%%timeit\n",
    "with torch.no_grad():\n",
    "    cpu_model_2d.forward(spatial_tensor, nonspatial_tensor)"
   ]
  },
  {
   "cell_type": "code",
   "execution_count": 134,
   "id": "fbedf31b-da06-4729-93a1-daf195199507",
   "metadata": {},
   "outputs": [
    {
     "name": "stdout",
     "output_type": "stream",
     "text": [
      "6.83 ms ± 455 μs per loop (mean ± std. dev. of 7 runs, 100 loops each)\n"
     ]
    }
   ],
   "source": [
    "%%timeit\n",
    "cpu_model_2d.forward(spatial_tensor, nonspatial_tensor)"
   ]
  },
  {
   "cell_type": "code",
   "execution_count": 135,
   "id": "5f45a40c-4e44-4bba-aa4a-f9348f45f6f9",
   "metadata": {},
   "outputs": [],
   "source": [
    "mps_model_2d = skynet.SkyNet2D(\n",
    "    spatial_input_shape=(2, sj.ROW_COUNT, sj.COLUMN_COUNT, sj.FINGER_SIZE),\n",
    "    non_spatial_input_shape=(sj.GAME_SIZE,),\n",
    "    value_output_shape=(2,),\n",
    "    policy_output_shape=(sj.MASK_SIZE,),\n",
    ")\n",
    "mps_model_2d.set_device('mps')\n",
    "mps_model_2d.eval()\n",
    "for _ in range(30):\n",
    "    mps_model_2d(spatial_tensor.to(device='mps'), nonspatial_tensor.to(device='mps'))"
   ]
  },
  {
   "cell_type": "code",
   "execution_count": 136,
   "id": "5490917c-f764-461c-b8ef-7f74ca249d5b",
   "metadata": {},
   "outputs": [
    {
     "name": "stdout",
     "output_type": "stream",
     "text": [
      "2.37 ms ± 78 μs per loop (mean ± std. dev. of 7 runs, 100 loops each)\n"
     ]
    }
   ],
   "source": [
    "%%timeit\n",
    "with torch.no_grad():\n",
    "    mps_model_2d.forward(spatial_tensor.to(device='mps'), nonspatial_tensor.to(device='mps'))"
   ]
  },
  {
   "cell_type": "code",
   "execution_count": 137,
   "id": "c26940d9-30b8-4389-a409-8dcb409e5527",
   "metadata": {},
   "outputs": [
    {
     "name": "stdout",
     "output_type": "stream",
     "text": [
      "2.43 ms ± 79.3 μs per loop (mean ± std. dev. of 7 runs, 100 loops each)\n"
     ]
    }
   ],
   "source": [
    "%%timeit\n",
    "mps_model_2d.forward(spatial_tensor.to(device='mps'), nonspatial_tensor.to(device='mps'))"
   ]
  },
  {
   "cell_type": "code",
   "execution_count": null,
   "id": "1e677bfa-f6dc-4b92-9c00-4602c2754d77",
   "metadata": {},
   "outputs": [],
   "source": []
  },
  {
   "cell_type": "code",
   "execution_count": null,
   "id": "4fbb611e-4255-466f-87a4-d9ddc45371b1",
   "metadata": {},
   "outputs": [],
   "source": []
  }
 ],
 "metadata": {
  "kernelspec": {
   "display_name": "Python 3 (ipykernel)",
   "language": "python",
   "name": "python3"
  },
  "language_info": {
   "codemirror_mode": {
    "name": "ipython",
    "version": 3
   },
   "file_extension": ".py",
   "mimetype": "text/x-python",
   "name": "python",
   "nbconvert_exporter": "python",
   "pygments_lexer": "ipython3",
   "version": "3.12.7"
  }
 },
 "nbformat": 4,
 "nbformat_minor": 5
}
